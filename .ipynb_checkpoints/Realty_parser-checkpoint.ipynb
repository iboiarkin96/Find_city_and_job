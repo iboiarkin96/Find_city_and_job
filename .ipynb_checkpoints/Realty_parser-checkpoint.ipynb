{
 "cells": [
  {
   "cell_type": "markdown",
   "id": "0cb6448a",
   "metadata": {},
   "source": [
    "# Библиотеки"
   ]
  },
  {
   "cell_type": "code",
   "execution_count": null,
   "id": "e4851e26-98be-4106-86d4-41b40ba983c0",
   "metadata": {},
   "outputs": [],
   "source": [
    "# pip install folium\n",
    "# pip install geopy\n",
    "# pip install selenium"
   ]
  },
  {
   "cell_type": "code",
   "execution_count": 1,
   "id": "aa1cb08c",
   "metadata": {},
   "outputs": [],
   "source": [
    "import pandas as pd\n",
    "pd.set_option('display.max_rows', 231)\n",
    "pd.options.display.float_format ='{:,.3f}'.format"
   ]
  },
  {
   "cell_type": "code",
   "execution_count": 2,
   "id": "910dd06a",
   "metadata": {},
   "outputs": [],
   "source": [
    "import matplotlib.pyplot as plt\n",
    "import seaborn as sns"
   ]
  },
  {
   "cell_type": "code",
   "execution_count": 3,
   "id": "cf4a3e38-c167-4b04-ab26-8b1688f222a6",
   "metadata": {},
   "outputs": [],
   "source": [
    "# для визуализации процесса выполнения перебора\n",
    "from tqdm.auto import tqdm\n",
    "import numpy as np"
   ]
  },
  {
   "cell_type": "markdown",
   "id": "6c710cec",
   "metadata": {},
   "source": [
    "# Сбор данных"
   ]
  },
  {
   "cell_type": "code",
   "execution_count": null,
   "id": "3d276cff-f345-4766-969e-016f78f54e9c",
   "metadata": {},
   "outputs": [],
   "source": [
    "Fin = open(\"output_hh_city.txt\",'r') \n",
    "str_ = Fin.readlines()"
   ]
  },
  {
   "cell_type": "code",
   "execution_count": null,
   "id": "0158daa0-8a92-46a5-a0dc-50ce12d4621d",
   "metadata": {},
   "outputs": [],
   "source": [
    "city_find = eval(str_[0]) + ['vladivostok']\n",
    "city_find"
   ]
  },
  {
   "cell_type": "code",
   "execution_count": null,
   "id": "179c4d5c",
   "metadata": {},
   "outputs": [],
   "source": [
    "from selenium.webdriver import Chrome\n",
    "\n",
    "# мак\n",
    "webdriver = \"/Users/krivonos.no/Desktop/Иван/проект/драйверы/chromedriver\"\n",
    "# винада\n",
    "# webdriver = \"C:\\\\Users\\\\Boyarkin.IS1\\\\Desktop\\\\DS\\\\Private\\\\Finding_the_Best_Places_to_Live\\\\драйверы\\\\chromedriver.exe\"\n",
    "driver = Chrome(webdriver)"
   ]
  },
  {
   "cell_type": "code",
   "execution_count": null,
   "id": "d80de663",
   "metadata": {},
   "outputs": [],
   "source": [
    "# перебор парметров поиска\n",
    "def grid_search(city = city_find,\n",
    "                type_of_house =['kvartira', 'dom'],\n",
    "                rooms =[ 'dvuhkomnatnaya', 'tryohkomnatnaya']):\n",
    "    \n",
    "    grid_search_ = []\n",
    "    for c in city:\n",
    "        for n in type_of_house:\n",
    "            for r in rooms:\n",
    "                if n != 'dom':\n",
    "                    grid_search_.append([c , n, r]) \n",
    "                else:\n",
    "                    grid_search_.append([c , n, '']) \n",
    "    return grid_search_"
   ]
  },
  {
   "cell_type": "code",
   "execution_count": null,
   "id": "3c4b60f4-ad01-42ba-b2ed-02d9d62c5598",
   "metadata": {},
   "outputs": [],
   "source": [
    "# достать URL страницы\n",
    "def creating_URL(max_depth = 1):\n",
    "    box_of_url = []\n",
    "    table = grid_search()\n",
    "    for row in table:\n",
    "        city, type_of_house, rooms = row\n",
    "        for i in range(0, max_depth):\n",
    "            url = f\"https://realty.yandex.ru/{city}/kupit/{type_of_house}\"+(f\"/{rooms}\" if rooms != '' else \"\" ) + \"/\" + (f\"/?page={i}\" if i != 0 else \"\")\n",
    "            box_of_url.append([url, city, type_of_house, rooms])\n",
    "    return box_of_url"
   ]
  },
  {
   "cell_type": "code",
   "execution_count": null,
   "id": "6af01ac7-c83b-404d-be01-12c694107b0b",
   "metadata": {},
   "outputs": [],
   "source": [
    "# поиск необходиомй информации\n",
    "def extract(numder_of_adds = 50):\n",
    "    box = []\n",
    "    url = creating_URL()\n",
    "    for row in tqdm(url):\n",
    "        link, city, type_of_house, rooms = row            \n",
    "        for j in tqdm(range(0, numder_of_adds)):\n",
    "            try:\n",
    "#                так как не знаем степень вложенности (кол-во страниц)\n",
    "                driver.get(link)\n",
    "                for j in range(1, numder_of_adds):\n",
    "                    try:\n",
    "                        s = driver.find_element_by_xpath(f\"//*[@id=\\\"root\\\"]/div[2]/div/div/div[1]/div[4]/ol/li[{j}]\")\n",
    "                        for i in s.find_elements_by_class_name('OffersSerpItem__info'):\n",
    "                            if (len(i.text) > 50) and (i.text not in box):\n",
    "                                box.append([link, city, type_of_house, rooms, i.text])\n",
    "                    except:\n",
    "                        ...  \n",
    "            except:\n",
    "                ... \n",
    "    return pd.DataFrame(box,  columns=['link', 'city', 'type_of_house', 'rooms',  'house'])"
   ]
  },
  {
   "cell_type": "code",
   "execution_count": null,
   "id": "c4f644f5-0227-4484-b596-fa69e79c4432",
   "metadata": {},
   "outputs": [],
   "source": [
    "df = extract()"
   ]
  },
  {
   "cell_type": "code",
   "execution_count": null,
   "id": "6dcfe007-2402-49a1-b745-aef6f8c43ad1",
   "metadata": {},
   "outputs": [],
   "source": [
    "df.drop_duplicates(inplace=True)\n",
    "df.reset_index(drop =True)"
   ]
  },
  {
   "cell_type": "code",
   "execution_count": null,
   "id": "9806d111-1771-47be-bcf9-9fa3be011e37",
   "metadata": {},
   "outputs": [],
   "source": [
    "df.to_csv('house_Yandex_realty_preprocessed.csv', index = False)"
   ]
  },
  {
   "cell_type": "markdown",
   "id": "43594a70",
   "metadata": {},
   "source": [
    "# Преобразование"
   ]
  },
  {
   "cell_type": "code",
   "execution_count": 5,
   "id": "d2844c99",
   "metadata": {},
   "outputs": [],
   "source": [
    "df = pd.read_csv('Квартиры//house_Yandex_realty_preprocessed.csv')"
   ]
  },
  {
   "cell_type": "code",
   "execution_count": 6,
   "id": "7e456ab4",
   "metadata": {},
   "outputs": [],
   "source": [
    "df.drop(columns=['link', 'type_of_house', 'rooms'] , inplace = True)"
   ]
  },
  {
   "cell_type": "code",
   "execution_count": 7,
   "id": "bdf6ff33",
   "metadata": {},
   "outputs": [],
   "source": [
    "df.drop_duplicates(inplace = True)"
   ]
  },
  {
   "cell_type": "code",
   "execution_count": 8,
   "id": "52230ff9",
   "metadata": {},
   "outputs": [],
   "source": [
    "def square_metres(x):\n",
    "    try:\n",
    "        sq =   float(x.split('\\n')[0].split(' м²,')[0].replace(',', '.'))\n",
    "        return sq\n",
    "    except:\n",
    "        return 0"
   ]
  },
  {
   "cell_type": "code",
   "execution_count": 9,
   "id": "3062a04f",
   "metadata": {},
   "outputs": [],
   "source": [
    "# квадратные метры \n",
    "# сплит по разделителю и сплит по квадратным метрам \n",
    "df['square metres'] = df['house'].apply(lambda x: square_metres(x))\n",
    "# типы недвижимости\n",
    "df['type of real estate'] = df['house'].apply(lambda x:  x.split('\\n')[0].split(\", \")[1])"
   ]
  },
  {
   "cell_type": "code",
   "execution_count": 10,
   "id": "20b93eb5",
   "metadata": {},
   "outputs": [],
   "source": [
    "def floor_extcacting(x):\n",
    "#     на вход строчка house\n",
    "\n",
    "    info_about_floor = x.split('\\n')[1]\n",
    "    temp = info_about_floor.split(', ')[-1:][0]\n",
    "    \n",
    "    def checking(row):        \n",
    "        if row.split(' ')[0].isdigit() \\\n",
    "            and row.split(' ')[-1].isdigit() \\\n",
    "            and row.split(' ')[1] == 'этаж':\n",
    "            return True\n",
    "    try:\n",
    "        if checking(info_about_floor):\n",
    "            return info_about_floor.split(' ')[0], info_about_floor.split(' ')[-1]\n",
    "        elif checking(temp):\n",
    "            return temp.split(' ')[0], temp.split(' ')[-1]\n",
    "        else:\n",
    "            return ['no info', 'no info']\n",
    "    except:\n",
    "        return ['no info', 'no info']"
   ]
  },
  {
   "cell_type": "code",
   "execution_count": 11,
   "id": "9a8ae2df",
   "metadata": {},
   "outputs": [],
   "source": [
    "# этаж квартиры и. максимальный этаж дома\n",
    "df['floor_of_flat'] = df['house'].apply(lambda x :floor_extcacting(x)[0])\n",
    "df['MAX_floor'] = df['house'].apply(lambda x :floor_extcacting(x)[1])"
   ]
  },
  {
   "cell_type": "code",
   "execution_count": 12,
   "id": "765d0ebb",
   "metadata": {},
   "outputs": [],
   "source": [
    "def extract_cost(text):\n",
    "    s = text.split(' ₽')[0].split('\\n')[-1].split(' ')\n",
    "    return int(''.join(s))"
   ]
  },
  {
   "cell_type": "code",
   "execution_count": 13,
   "id": "81a6be40",
   "metadata": {},
   "outputs": [],
   "source": [
    "# цена\n",
    "df['price'] = df['house'].apply(lambda x :extract_cost(x))"
   ]
  },
  {
   "cell_type": "code",
   "execution_count": 14,
   "id": "64ed7380",
   "metadata": {},
   "outputs": [],
   "source": [
    "def extract_time_to_sub(text):\n",
    "    try:\n",
    "        s = text.split(' мин.')[0].split('\\n')[-1].split(' ')\n",
    "        return int(''.join(s))\n",
    "    except:\n",
    "        return 'no'"
   ]
  },
  {
   "cell_type": "code",
   "execution_count": 15,
   "id": "129a0dd2",
   "metadata": {},
   "outputs": [],
   "source": [
    "# время до метро\n",
    "df['time_to_sub'] = df['house'].apply(lambda x :extract_time_to_sub(x))"
   ]
  },
  {
   "cell_type": "code",
   "execution_count": 16,
   "id": "eff0a58c",
   "metadata": {},
   "outputs": [],
   "source": [
    "def metro_extcacting(x):\n",
    "    adres = x.split('\\n')[3].split(' ')\n",
    "    without_blank = [i for i in adres if i !=\"\"]\n",
    "    if len(without_blank) == 1:\n",
    "        return without_blank[0]\n",
    "    else:\n",
    "        return 'no'"
   ]
  },
  {
   "cell_type": "code",
   "execution_count": 17,
   "id": "724da3b3",
   "metadata": {},
   "outputs": [],
   "source": [
    "# ближайшая станция метро\n",
    "df['nearest_station'] = df.apply(lambda x :'no' if x['time_to_sub'] == 'no' else  \\\n",
    "                                                 'no' if x['house'].split('\\n')[3].split(' ')[-1] == 'мин.' else x['house'].split('\\n')[3],\n",
    "                                 axis = 1)"
   ]
  },
  {
   "cell_type": "code",
   "execution_count": 18,
   "id": "aec83b07",
   "metadata": {},
   "outputs": [],
   "source": [
    "def address_extcacting(x):\n",
    "    s =''\n",
    "    for i in x.split('\\n')[1:3]:\n",
    "        s+=\"\\n\" + i\n",
    "\n",
    "    try:\n",
    "        pattern2 = '[\\-а-яА-Яё№,  0-9]{1,}, [0-9]{1,}(к[0-9]*){0,1}'\n",
    "        f_p =  re.search(pattern2, s)[0]\n",
    "        if len(f_p)>=6:\n",
    "            return f_p\n",
    "    except:\n",
    "        return 'bag'"
   ]
  },
  {
   "cell_type": "code",
   "execution_count": 19,
   "id": "c8a28029",
   "metadata": {},
   "outputs": [],
   "source": [
    "def tech_address_extcacting(x):\n",
    "    s =''\n",
    "    for i in x.split('\\n')[1:3]:\n",
    "        s+=\"\\n\" + i\n",
    "\n",
    "    try:\n",
    "        pattern2 = '[\\-а-яА-Яё№,  0-9]{1,}, [0-9]{1,}(к[0-9]*){0,1}'\n",
    "        f_p =  re.search(pattern2, s)[0]\n",
    "        if len(f_p)>=6:\n",
    "            return f_p\n",
    "    except:\n",
    "        return s"
   ]
  },
  {
   "cell_type": "code",
   "execution_count": 20,
   "id": "da2e2b34",
   "metadata": {},
   "outputs": [],
   "source": [
    "# адресс\n",
    "df['address'] = df['house'].apply(lambda x :address_extcacting(x))\n",
    "\n",
    "df['tech_address'] = df['city'] + ' ' + df['house'].apply(lambda x :tech_address_extcacting(x))"
   ]
  },
  {
   "cell_type": "markdown",
   "id": "8f88a7b0",
   "metadata": {},
   "source": [
    "# Фильтрация"
   ]
  },
  {
   "cell_type": "code",
   "execution_count": 21,
   "id": "b08a8356",
   "metadata": {},
   "outputs": [],
   "source": [
    "df = df[df['square metres']<250]\n",
    "df = df[df['price']<20*10**6]\n",
    "df = df.query('floor_of_flat  != \"1\" or floor_of_flat== \"no info\"')"
   ]
  },
  {
   "cell_type": "code",
   "execution_count": 22,
   "id": "3d2bad2c",
   "metadata": {},
   "outputs": [
    {
     "data": {
      "text/plain": [
       "<AxesSubplot:xlabel='square metres', ylabel='Count'>"
      ]
     },
     "execution_count": 22,
     "metadata": {},
     "output_type": "execute_result"
    },
    {
     "data": {
      "image/png": "[encoded data removed]",
      "text/plain": [
       "<Figure size 1080x360 with 1 Axes>"
      ]
     },
     "metadata": {
      "needs_background": "light"
     },
     "output_type": "display_data"
    }
   ],
   "source": [
    "f, axes = plt.subplots(1, 1, figsize = (15, 5))\n",
    "sns.histplot(data =df,\n",
    "             x = 'square metres',\n",
    "             hue = 'city')"
   ]
  },
  {
   "cell_type": "code",
   "execution_count": 23,
   "id": "ee59d0ee",
   "metadata": {},
   "outputs": [
    {
     "data": {
      "text/plain": [
       "<AxesSubplot:xlabel='price', ylabel='Count'>"
      ]
     },
     "execution_count": 23,
     "metadata": {},
     "output_type": "execute_result"
    },
    {
     "data": {
      "image/png": "[encoded data removed]",
      "text/plain": [
       "<Figure size 1080x360 with 1 Axes>"
      ]
     },
     "metadata": {
      "needs_background": "light"
     },
     "output_type": "display_data"
    }
   ],
   "source": [
    "f, axes = plt.subplots(1, 1, figsize = (15, 5))\n",
    "import matplotlib.ticker as mticker\n",
    "# plt.ticklabel_format(style = 'plain')\n",
    "\n",
    "sns.histplot(data =df,\n",
    "             x = 'price',\n",
    "             hue = 'city')"
   ]
  },
  {
   "cell_type": "code",
   "execution_count": null,
   "id": "8c174849",
   "metadata": {},
   "outputs": [],
   "source": [
    "df.to_csv('df_final_Realty.csv', index = False)"
   ]
  }
 ],
 "metadata": {
  "kernelspec": {
   "display_name": "Python 3",
   "language": "python",
   "name": "python3"
  },
  "language_info": {
   "codemirror_mode": {
    "name": "ipython",
    "version": 3
   },
   "file_extension": ".py",
   "mimetype": "text/x-python",
   "name": "python",
   "nbconvert_exporter": "python",
   "pygments_lexer": "ipython3",
   "version": "3.8.8"
  }
 },
 "nbformat": 4,
 "nbformat_minor": 5
}
